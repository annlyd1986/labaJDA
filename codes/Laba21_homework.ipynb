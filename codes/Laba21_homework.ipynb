{
 "cells": [
  {
   "cell_type": "markdown",
   "id": "dbc018af",
   "metadata": {},
   "source": [
    "# Zadanie domowe\n",
    "**Cel**: Stworzenie notatnika Jupyter, w którym krok po kroku wykonasz analizę temperatur z użyciem podstawowych struktur i instrukcji Pythona.\n",
    "\n",
    "Dla zadeklarowanych danych\n",
    "1. Używając pętli `for`, wypisz temperatury.\n",
    "\n",
    "2. Używając pętli `for`, wypisuj temperatury do momentu pierwszej wyższej niż 25°C (włącznie).\n",
    "\n",
    "3. Dla każdej temperatury wykonaj sprawdzenie:\n",
    "- Jeśli temperatura jest niższa niż 20°C, wypisz „chłodno”.\n",
    "- Jeśli temperatura jest w przedziale 20–25°C, wypisz „przyjemnie”.\n",
    "- Jeśli temperatura jest wyższa niż 25°C, wypisz „gorąco”.\n",
    "\n",
    "4. Napisz funkcję `srednia_temperatura`, która przyjmie listę temperatur i zwróci ich średnią wartość. Uruchom funkcję dla podanej listy temperatur i wypisz wynik (do policzenia średniej użyj funkcji `sum` - sumuje liczby, funkcja `len` zwraca długość listy).\n",
    "\n",
    "5. Napisz funkcję `dni_temperatura_powyzej`, która przyjmie słownik temperatury_dni oraz próg temperatury i zwróci listę dni, w których temperatura była wyższa niż podany próg. Uruchom funkcję dla progu 22°C i wypisz wynik.\n",
    "\n",
    "6. Używając list comprehension, utwórz nową listę temperatur zwiększonych o 2°C i wypisz wynik.\n",
    "\n",
    "7. Używając list comprehension, utwórz listę temperatur wyższych niż 20°C i wypisz wynik.\n",
    "\n",
    "8. W osobnej komórce markdown podsumuj wyniki:\n",
    "\n",
    "- Średnia temperatura.\n",
    "- Najcieplejszy dzień i jego temperatura.\n",
    "- Lista dni z temperaturą powyżej 22°C."
   ]
  },
  {
   "cell_type": "code",
   "execution_count": 2,
   "id": "98f0e8c8",
   "metadata": {},
   "outputs": [],
   "source": [
    "# Lista temperatur z ostatniego tygodnia\n",
    "temperatury = [15, 20, 22, 19, 30, 25, 18]\n",
    "\n",
    "# Słownik - przypisanie temperatur do dni tygodnia\n",
    "temperatury_dni = {\n",
    "    \"Pon\": 15,\n",
    "    \"Wt\": 20,\n",
    "    \"Śr\": 22,\n",
    "    \"Czw\": 19,\n",
    "    \"Pt\": 30,\n",
    "    \"Sob\": 25,\n",
    "    \"Nd\": 18\n",
    "}"
   ]
  },
  {
   "cell_type": "code",
   "execution_count": 3,
   "id": "c24f5ee6",
   "metadata": {},
   "outputs": [
    {
     "name": "stdout",
     "output_type": "stream",
     "text": [
      "15\n",
      "20\n",
      "22\n",
      "19\n",
      "30\n",
      "25\n",
      "18\n"
     ]
    }
   ],
   "source": [
    "# 1.\n",
    "for temperatura in temperatury:\n",
    "    print(temperatura)"
   ]
  },
  {
   "cell_type": "code",
   "execution_count": 4,
   "id": "d385adfc",
   "metadata": {},
   "outputs": [
    {
     "name": "stdout",
     "output_type": "stream",
     "text": [
      "15\n",
      "20\n",
      "22\n",
      "19\n",
      "30\n"
     ]
    }
   ],
   "source": [
    "# 2.\n",
    "for temperatura in temperatury:\n",
    "    print(temperatura)\n",
    "    if temperatura > 25:\n",
    "        break"
   ]
  },
  {
   "cell_type": "code",
   "execution_count": 7,
   "id": "a0526da7",
   "metadata": {},
   "outputs": [
    {
     "name": "stdout",
     "output_type": "stream",
     "text": [
      "15 chłodno\n",
      "20 przyjemnie\n",
      "22 przyjemnie\n",
      "19 chłodno\n",
      "30 gorąco\n",
      "25 przyjemnie\n",
      "18 chłodno\n"
     ]
    }
   ],
   "source": [
    "#3. Tu nie trzeba było wypisywać kontretnie temperatury\n",
    "for temperatura in temperatury:\n",
    "    if temperatura < 20:\n",
    "        print(temperatura, \"chłodno\")\n",
    "    elif temperatura <= 25:\n",
    "        print(temperatura, \"przyjemnie\")\n",
    "    elif temperatura > 25:\n",
    "        print(temperatura, \"gorąco\")"
   ]
  },
  {
   "cell_type": "code",
   "execution_count": 10,
   "id": "00b19b1a",
   "metadata": {},
   "outputs": [
    {
     "name": "stdout",
     "output_type": "stream",
     "text": [
      "21.285714285714285\n"
     ]
    }
   ],
   "source": [
    "#4.\n",
    "def srednia_temperatura(lista):\n",
    "    return sum(lista) / len(lista)\n",
    "\n",
    "print(srednia_temperatura(temperatury))"
   ]
  },
  {
   "cell_type": "code",
   "execution_count": 11,
   "id": "a9756911",
   "metadata": {},
   "outputs": [
    {
     "data": {
      "text/plain": [
       "['Pt', 'Sob']"
      ]
     },
     "execution_count": 11,
     "metadata": {},
     "output_type": "execute_result"
    }
   ],
   "source": [
    "#5.\n",
    "def dni_temperatura_powyzej(slownik, prog):\n",
    "    dni_powyzej = []\n",
    "    for key, value in slownik.items():\n",
    "        if value > prog:\n",
    "            dni_powyzej += [key]\n",
    "    return dni_powyzej\n",
    "\n",
    "dni_temperatura_powyzej(temperatury_dni, 22)"
   ]
  },
  {
   "cell_type": "code",
   "execution_count": 12,
   "id": "bd1ec177",
   "metadata": {},
   "outputs": [
    {
     "name": "stdout",
     "output_type": "stream",
     "text": [
      "[17, 22, 24, 21, 32, 27, 20]\n"
     ]
    }
   ],
   "source": [
    "#6.\n",
    "nowa_lista = [x + 2 for x in temperatury]\n",
    "print(nowa_lista)"
   ]
  },
  {
   "cell_type": "code",
   "execution_count": 13,
   "id": "3cff845b",
   "metadata": {},
   "outputs": [
    {
     "name": "stdout",
     "output_type": "stream",
     "text": [
      "[22, 30, 25]\n"
     ]
    }
   ],
   "source": [
    "#7.\n",
    "nowa_lista_20 = [x for x in temperatury if x > 20]\n",
    "print(nowa_lista_20)"
   ]
  },
  {
   "cell_type": "markdown",
   "id": "71616a53",
   "metadata": {},
   "source": [
    "# 8.\n",
    "Średnia temperatura : `21.285714285714285`\n",
    "Najcieplejszy dzień i jego temperatura : `Pt`, `30`\n",
    "Lista dni z temperaturą powyżej 22°C. : `Pt`, `Sob`"
   ]
  }
 ],
 "metadata": {
  "kernelspec": {
   "display_name": "Python 3 (ipykernel)",
   "language": "python",
   "name": "python3"
  },
  "language_info": {
   "codemirror_mode": {
    "name": "ipython",
    "version": 3
   },
   "file_extension": ".py",
   "mimetype": "text/x-python",
   "name": "python",
   "nbconvert_exporter": "python",
   "pygments_lexer": "ipython3",
   "version": "3.10.9"
  }
 },
 "nbformat": 4,
 "nbformat_minor": 5
}
