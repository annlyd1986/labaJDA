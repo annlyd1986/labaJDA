{
 "cells": [
  {
   "cell_type": "markdown",
   "id": "dc6371f2",
   "metadata": {},
   "source": [
    "# UWAGA: \n",
    "**Każde zadanie powinno być rozwiązane w osobnych komórkach notebooka.\n",
    "Wstaw odpowiednie komentarze i wyjaśnienia do kodu.**\n",
    "\n",
    "## Zadanie 1: Sprawdzenie brakujących wartości\n",
    "1. Policz liczbę brakujących wartości w każdej kolumnie i wyświetl je.\n",
    "2. Usuń wiersze, w których brakuje więcej niż 3 wartości.\n",
    "3. Wypełnij brakujące wartości w kolumnie \"Age\" medianą dla danej klasy \"Pclass\".\n",
    "\n",
    "## Zadanie 2: Grupowanie i agregacja\n",
    "1. Policz średni wiek pasażerów w każdej klasie \"Pclass\".\n",
    "2. Oblicz maksymalną i minimalną cenę biletu dla każdej klasy.\n",
    "3. Policz średni współczynnik przeżywalności dla każdej kombinacji \"Pclass\" i \"Sex\".\n",
    "\n",
    "## Zadanie 3: Różne rodzaje agregacji\n",
    "1. Dla każdej klasy \"Pclass\" oblicz: średnią, medianę, min, max oraz odchylenie standardowe wieku \"Age\".\n",
    "2. Dla każdej płci \"Sex\" oblicz sumę i średnią ceny biletu \"Fare\" oraz liczbę pasażerów.\n",
    "\n",
    "## Zadanie 4: Sortowanie danych\n",
    "1. Posortuj dane malejąco według ceny biletu \"Fare\" i wyświetl top 10 pasażerów.\n",
    "2. Posortuj dane według \"Pclass\" (rosnąco) i \"Age\" (malejąco) i wyświetl pierwsze 10 wierszy.\n",
    "\n"
   ]
  },
  {
   "cell_type": "code",
   "execution_count": null,
   "id": "3aae16aa",
   "metadata": {},
   "outputs": [],
   "source": [
    "import pandas as pd\n",
    "import numpy as np\n",
    "\n",
    "# Wczytanie danych Titanic\n",
    "df = pd.read_csv(\"https://raw.githubusercontent.com/datasciencedojo/datasets/master/titanic.csv\")\n",
    "display(df)\n"
   ]
  }
 ],
 "metadata": {
  "kernelspec": {
   "display_name": "Python 3 (ipykernel)",
   "language": "python",
   "name": "python3"
  },
  "language_info": {
   "codemirror_mode": {
    "name": "ipython",
    "version": 3
   },
   "file_extension": ".py",
   "mimetype": "text/x-python",
   "name": "python",
   "nbconvert_exporter": "python",
   "pygments_lexer": "ipython3",
   "version": "3.10.9"
  }
 },
 "nbformat": 4,
 "nbformat_minor": 5
}
