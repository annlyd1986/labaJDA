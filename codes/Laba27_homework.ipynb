{
 "cells": [
  {
   "cell_type": "markdown",
   "id": "122bd644",
   "metadata": {},
   "source": [
    "# Laba 27 zadanie domowe\n",
    "Wykonaj następujące kroki analizy dla zbioru `penguins`:\n",
    "\n",
    "\n",
    "## Eksploracja danych (EDA)\n",
    "1. Wczytaj zbiór danych penguins z seaborn.\n",
    "\n",
    "2. Sprawdź podstawowe statystyki (df.describe(), df.info()).\n",
    "\n",
    "3. Sprawdź, czy są brakujące wartości – jeśli tak, uzupełnij je lub usuń.\n",
    "\n",
    "3. Zwizualizuj dane (np. wykresy par sns.pairplot()).\n",
    "\n",
    "## Redukcja wymiarowości (PCA)\n",
    "1. Usuń kolumny kategoryczne (np. gatunek, płeć) przed PCA.\n",
    "\n",
    "2. Przeskaluj dane (`StandardScaler`).\n",
    "\n",
    "3. Wykonaj PCA i zredukuj wymiarowość do 2 głównych komponentów.\n",
    "\n",
    "4. Zwizualizuj dane po PCA na wykresie 2D.\n",
    "\n",
    "## Klasteryzacja\n",
    "1. K-Means:\n",
    "\n",
    "- Ustal optymalną liczbę klastrów metodą Silhouette.\n",
    "\n",
    "- Wykonaj klasteryzację i przypisz klastry do danych.\n",
    "\n",
    "2. DBSCAN:\n",
    "\n",
    "- Dobierz odpowiednie wartości eps i min_samples.\n",
    "\n",
    "- Sprawdź, czy lepiej grupuje pingwiny niż K-Means.\n",
    "\n",
    "3. Porównanie metod:\n",
    "\n",
    "- Oblicz Silhouette Score dla obu metod.\n",
    "\n",
    "- Która metoda najlepiej oddaje rzeczywisty podział na gatunki pingwinów?\n",
    "\n",
    "## Wizualizacja wyników\n",
    "1. Narysuj wykres klastrów dla PCA+K-Means oraz PCA+DBSCAN.\n",
    "\n",
    "2. Porównaj wyniki z rzeczywistymi etykietami gatunków.\n",
    "\n",
    "## Wnioski\n",
    "1. Czy klasteryzacja poprawnie odtworzyła grupy gatunków pingwinów?\n",
    "\n",
    "2. Która metoda działała najlepiej?\n",
    "\n",
    "3. Jakie są zalety i ograniczenia PCA oraz klasteryzacji?\n"
   ]
  },
  {
   "cell_type": "code",
   "execution_count": null,
   "id": "a778e58f",
   "metadata": {},
   "outputs": [],
   "source": [
    "import matplotlib.pyplot as plt\n",
    "import numpy as np\n",
    "import pandas as pd\n",
    "import seaborn as sns\n",
    "\n",
    "\n",
    "# Wczytanie danych CO2\n",
    "penguins = sns.load_dataset(\"penguins\").dropna()\n",
    "penguins.head()"
   ]
  }
 ],
 "metadata": {
  "kernelspec": {
   "display_name": "Python 3 (ipykernel)",
   "language": "python",
   "name": "python3"
  },
  "language_info": {
   "codemirror_mode": {
    "name": "ipython",
    "version": 3
   },
   "file_extension": ".py",
   "mimetype": "text/x-python",
   "name": "python",
   "nbconvert_exporter": "python",
   "pygments_lexer": "ipython3",
   "version": "3.10.9"
  }
 },
 "nbformat": 4,
 "nbformat_minor": 5
}
