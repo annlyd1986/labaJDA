{
 "cells": [
  {
   "cell_type": "markdown",
   "id": "db737ce3",
   "metadata": {},
   "source": [
    "# Zadanie domowe: Rozszerzenie analizy zbioru Heart Disease\n",
    "\n",
    "*Cel*: Pogłębienie analizy zbioru danych oraz eksperymentowanie z różnymi podejściami do poprawy jakości modelu predykcyjnego.\n",
    "\n",
    "## Część 1: Wstępna analiza i przygotowanie danych\n",
    "1. Wczytaj ponownie zbiór heart.csv.\n",
    "2. Sprawdź brakujące wartości oraz rozkład cech – użyj wizualizacji (histplot, boxplot, pairplot).\n",
    "3. Przeanalizuj rozkład klas w zmiennej celu target.\n",
    "\n",
    "## Część 2: Inżynieria cech\n",
    "1. Znormalizuj dane za pomocą StandardScaler.\n",
    "2. Stwórz co najmniej 3 nowe cechy (feature engineering), np. proporcje, interakcje lub przekształcenia binarne.\n",
    "\n",
    "### Część 3: Modelowanie\n",
    "1. Przetestuj 3 modele: DecisionTreeClassifier, RandomForestClassifier, XGBClassifier (z xgboost).\n",
    "2. Dla każdego modelu:\n",
    "   - przeprowadź train_test_split (test size = 0.2),\n",
    "   - oblicz metryki: Accuracy, Precision, Recall, F1-score, ROC AUC,\n",
    "   - narysuj krzywą ROC,\n",
    "   - wygeneruj confusion_matrix.\n",
    "\n",
    "### Część 4: Balansowanie danych\n",
    "1. Sprawdź, czy zbiór jest niezbalansowany.\n",
    "2. Zastosuj: undersampling, oversampling (np. SMOTE), class_weight='balanced' w modelu.\n",
    "3. Porównaj wpływ tych technik na wyniki modelu Random Forest.\n",
    "\n",
    "### Część 5: Interpretacja\n",
    "1. Wybierz najlepiej działający model.\n",
    "2. Wypisz 5 najważniejszych cech (feature importance).\n",
    "3. Napisz 2–3 zdania interpretujące wyniki (co wpływa najbardziej na wykrycie choroby serca?)."
   ]
  },
  {
   "cell_type": "code",
   "execution_count": 1,
   "id": "12f3b4f5",
   "metadata": {},
   "outputs": [
    {
     "name": "stderr",
     "output_type": "stream",
     "text": [
      "C:\\Users\\jakub\\AppData\\Roaming\\Python\\Python310\\site-packages\\pandas\\core\\arrays\\masked.py:60: UserWarning: Pandas requires version '1.3.6' or newer of 'bottleneck' (version '1.3.5' currently installed).\n",
      "  from pandas.core import (\n"
     ]
    }
   ],
   "source": [
    "import pandas as pd\n",
    "\n",
    "df_heart = pd.read_csv(\"https://raw.githubusercontent.com/jisokolowski/labaJDA/43f437864f739fe676cc8a90c8cde645b70a62b5/input/heart_disease/heart.csv\")"
   ]
  }
 ],
 "metadata": {
  "kernelspec": {
   "display_name": "Python 3 (ipykernel)",
   "language": "python",
   "name": "python3"
  },
  "language_info": {
   "codemirror_mode": {
    "name": "ipython",
    "version": 3
   },
   "file_extension": ".py",
   "mimetype": "text/x-python",
   "name": "python",
   "nbconvert_exporter": "python",
   "pygments_lexer": "ipython3",
   "version": "3.10.9"
  }
 },
 "nbformat": 4,
 "nbformat_minor": 5
}
