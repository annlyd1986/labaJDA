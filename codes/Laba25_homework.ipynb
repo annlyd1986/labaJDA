{
 "cells": [
  {
   "cell_type": "markdown",
   "id": "122bd644",
   "metadata": {},
   "source": [
    "# UWAGA: \n",
    "**Każde zadanie powinno być rozwiązane w osobnych komórkach notebooka.\n",
    "Wstaw odpowiednie komentarze i wyjaśnienia do kodu.**\n",
    "\n",
    "Użyj bibliotek pandas, seaborn i matplotlib.pyplot, aby wykonać następujące kroki analizy:\n",
    "\n",
    "## 1. Wczytanie i wstępne zapoznanie się z danymi\n",
    "Załaduj zbiór danych do obiektu DataFrame.\n",
    "Wyświetl pierwsze kilka wierszy (`.head()`).\n",
    "Sprawdź podstawowe informacje o danych (`.info()`, `.describe()`).\n",
    "Zweryfikuj, czy występują wartości brakujące (`.isnull().sum()`).\n",
    "## 2. Analiza statystyczna\n",
    "Oblicz podstawowe statystyki opisowe dla zmiennych numerycznych (średnia, mediana, odchylenie standardowe).\n",
    "Zidentyfikuj wartości odstające w kluczowych kolumnach, np. emisji CO₂ (np. wykres `boxplot`).\n",
    "Sprawdź współczynniki korelacji pomiędzy zmiennymi numerycznymi (`df[kolumny_numeryczne].corr()`).\n",
    "## 3. Wizualizacja danych\n",
    "### Histogramy:\n",
    "\n",
    "Wykreśl histogram emisji CO₂, aby zobaczyć rozkład tej zmiennej.\n",
    "Sprawdź, jak wygląda rozkład innych kluczowych zmiennych numerycznych.\n",
    "### Boxploty:\n",
    "\n",
    "Stwórz wykres pudełkowy (`boxplot`) emisji CO₂ w podziale na kategorie np. typ paliwa lub producenta pojazdu.\n",
    "### Korelacje:\n",
    "\n",
    "Wykonaj wykres korelacji (heatmapa) przy użyciu `seaborn.heatmap()`. Sprawdź w internecie jak z niej korzystać.\n",
    "Wykonaj wykres punktowy (scatter plot) dla emisji CO₂ w odniesieniu do mocy silnika lub innej istotnej zmiennej.\n",
    "## 4. Wnioski\n",
    "Podsumuj swoje obserwacje: Jakie zależności udało się zauważyć?\n",
    "Czy dane zawierają wartości odstające? Jeśli tak, to które?\n",
    "Jakie zmienne są najsilniej skorelowane z emisją CO₂?\n"
   ]
  },
  {
   "cell_type": "code",
   "execution_count": null,
   "id": "a778e58f",
   "metadata": {},
   "outputs": [],
   "source": [
    "import matplotlib.pyplot as plt\n",
    "import numpy as np\n",
    "import pandas as pd\n",
    "import seaborn as sns\n",
    "\n",
    "\n",
    "# Wczytanie danych CO2\n",
    "df = pd.read_csv(\"https://raw.githubusercontent.com/jisokolowski/labaJDA/main/input/co2_emmission/CO2_emission.csv\")\n",
    "display(df)"
   ]
  }
 ],
 "metadata": {
  "kernelspec": {
   "display_name": "Python 3 (ipykernel)",
   "language": "python",
   "name": "python3"
  },
  "language_info": {
   "codemirror_mode": {
    "name": "ipython",
    "version": 3
   },
   "file_extension": ".py",
   "mimetype": "text/x-python",
   "name": "python",
   "nbconvert_exporter": "python",
   "pygments_lexer": "ipython3",
   "version": "3.10.9"
  }
 },
 "nbformat": 4,
 "nbformat_minor": 5
}
