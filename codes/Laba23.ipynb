{
 "cells": [
  {
   "cell_type": "markdown",
   "id": "e78c014f",
   "metadata": {},
   "source": [
    "# Eksploracja danych w Pandas"
   ]
  },
  {
   "cell_type": "markdown",
   "id": "7f13c995",
   "metadata": {},
   "source": [
    "## Wczytanie danych Titanic"
   ]
  },
  {
   "cell_type": "code",
   "execution_count": null,
   "id": "5a28b859",
   "metadata": {},
   "outputs": [],
   "source": [
    "import pandas as pd\n",
    "\n",
    "# Pobieranie danych bezpośrednio z internetu\n",
    "# Opis danych https://www.kaggle.com/c/titanic/data\n",
    "url = \"https://raw.githubusercontent.com/datasciencedojo/datasets/master/titanic.csv\"\n",
    "df = pd.read_csv(url).set_index('PassengerId')\n",
    "\n",
    "display(df)"
   ]
  },
  {
   "cell_type": "markdown",
   "id": "73cff166",
   "metadata": {},
   "source": [
    "## Brakujące wartości"
   ]
  },
  {
   "cell_type": "code",
   "execution_count": null,
   "id": "cf00779f",
   "metadata": {},
   "outputs": [],
   "source": [
    "df.info()\n",
    "df.describe()"
   ]
  },
  {
   "cell_type": "code",
   "execution_count": null,
   "id": "44cd1676",
   "metadata": {},
   "outputs": [],
   "source": [
    "display(df.isna()) # Bool czy są puste\n",
    "print(df.isna().sum()) # Sumowanie po kolumnach\n",
    "print(df.isna().sum(axis=1)) # Sumowanie po wierszach"
   ]
  },
  {
   "cell_type": "markdown",
   "id": "32f6669b",
   "metadata": {},
   "source": [
    "## Usuwanie brakujących wartości"
   ]
  },
  {
   "cell_type": "code",
   "execution_count": null,
   "id": "c52c45f3",
   "metadata": {},
   "outputs": [],
   "source": [
    "df_dropna = df.dropna()  # Usunięcie wszystkich wierszy z brakującymi wartościami\n",
    "\n",
    "# Usunięcie wszystkich wierszy z brakującymi wartościami w danych kolumnach\n",
    "df_dropna = df.dropna(subset=['Age'])  \n",
    "\n",
    "# Uzupełnienie medianą wieku\n",
    "df_fillna = df.fillna({\"Age\": df[\"Age\"].median()})  \n",
    "\n",
    "# Usuwanie wierszy z dużą liczbą braków\n",
    "threshold = len(df.columns) * 0.5\n",
    "df_cleaned = df.dropna(thresh=threshold, axis=0)\n",
    "\n",
    "# Wypełnianie na podstawie innej kolumny\n",
    "median_age_by_class = df.groupby(\"Pclass\")[\"Age\"].transform(lambda x: x.fillna(x.median()))\n",
    "df[\"Age\"] = median_age_by_class"
   ]
  },
  {
   "cell_type": "markdown",
   "id": "b1052c74",
   "metadata": {},
   "source": [
    "### Ćwiczenie: \n",
    "1. Wypełnij brakujące wartości w kolumnie \"Embarked\" najczęstszą wartością\n",
    "2. Wypełnij brakujące wartości w kolumnie \"Cabin\" wartością \"Unknown\"\n",
    "3. Sprawdź, ile wartości w kolumnie \"Cabin\" jest nadal nieznanych po wcześniejszym wypełnieniu\n",
    "4. Wypełnij brakujące wartości w kolumnie \"Age\" średnią wieku dla danej płci \"Sex\""
   ]
  },
  {
   "cell_type": "code",
   "execution_count": null,
   "id": "5666986d",
   "metadata": {},
   "outputs": [],
   "source": []
  },
  {
   "cell_type": "markdown",
   "id": "fcb2a65c",
   "metadata": {},
   "source": [
    "## Grupowanie i agregacja"
   ]
  },
  {
   "cell_type": "markdown",
   "id": "a6121fb5",
   "metadata": {},
   "source": []
  },
  {
   "cell_type": "code",
   "execution_count": null,
   "id": "cfc7a133",
   "metadata": {},
   "outputs": [],
   "source": [
    "# Funkcja value_counts()\n",
    "display(df[['Survived', 'Sex']].value_counts())\n",
    "\n",
    "# Funkcja groupby\n",
    "# Grupowanie wg klasy i płci, średnia przeżywalność\n",
    "agg_survival = df.groupby([\"Pclass\", \"Sex\"])['Survived'].mean()\n",
    "display(agg_survival)\n",
    "# Output jako DataFrame\n",
    "agg_survival = df.groupby([\"Pclass\", \"Sex\"])[['Survived']].mean()\n",
    "display(agg_survival)"
   ]
  },
  {
   "cell_type": "markdown",
   "id": "9709ac7c",
   "metadata": {},
   "source": [
    "### Ćwiczenie: \n",
    "1. Policz medianę wieku dla każdej klasy pasażerów\n",
    "2. Oblicz średnią cenę biletu dla każdej kombinacji \"Pclass\" i \"Embarked\"\n",
    "3. Sprawdź maksymalną liczbę rodzeństwa i rodziców podróżujących razem dla każdej klasy"
   ]
  },
  {
   "cell_type": "code",
   "execution_count": null,
   "id": "512f7c4e",
   "metadata": {},
   "outputs": [],
   "source": []
  },
  {
   "cell_type": "markdown",
   "id": "7e5b5240",
   "metadata": {},
   "source": [
    "## Różne rodzaje agregacji"
   ]
  },
  {
   "cell_type": "markdown",
   "id": "f5141e0e",
   "metadata": {},
   "source": [
    "### Funkcje używane na `groupby` w Pandas\n",
    "\n",
    "Po zastosowaniu `.groupby()` w Pandas można korzystać z różnych funkcji agregujących, transformujących i filtrujących dane.\n",
    "\n",
    "#### **Funkcje agregujące (`.agg()`)**\n",
    "Te funkcje zwracają jedną wartość dla każdej grupy:\n",
    "\n",
    "- `.sum()` – suma wartości w grupie\n",
    "- `.mean()` – średnia arytmetyczna\n",
    "- `.median()` – mediana\n",
    "- `.min()` – najmniejsza wartość\n",
    "- `.max()` – największa wartość\n",
    "- `.count()` – liczba elementów w grupie\n",
    "- `.nunique()` – liczba unikalnych wartości w grupie\n",
    "- `.first()` – pierwszy element w grupie\n",
    "- `.last()` – ostatni element w grupie\n",
    "- `.prod()` – iloczyn wartości\n",
    "- `.std()` – odchylenie standardowe\n",
    "- `.var()` – wariancja\n",
    "\n",
    "#### **Funkcje transformujące (`.transform()`)**\n",
    "Te funkcje zwracają wartość dla każdego wiersza, zachowując oryginalny rozmiar:\n",
    "\n",
    "- `.cumsum()` – skumulowana suma\n",
    "- `.cumprod()` – skumulowany iloczyn\n",
    "- `.rank()` – ranking wartości w grupie\n",
    "- `.fillna()` – wypełnienie brakujących wartości\n",
    "- `.ffill()` / `.bfill()` – propagacja wartości do przodu i do tyłu\n",
    "- `.shift(n)` – przesunięcie wartości o `n` pozycji"
   ]
  },
  {
   "cell_type": "code",
   "execution_count": null,
   "id": "e2b40624",
   "metadata": {},
   "outputs": [],
   "source": [
    "# Grupowanie po klasie biletu\n",
    "aggs = df.groupby(\"Pclass\").agg({\n",
    "    \"Age\": [\"mean\", \"median\", \"min\", \"max\", \"std\"],\n",
    "    \"Fare\": [\"sum\", \"mean\", \"max\", \"min\", \"std\"],\n",
    "    \"Survived\": [\"count\", \"sum\", \"mean\"]\n",
    "})\n",
    "display(aggs)\n",
    "\n",
    "# Grupowanie po płci\n",
    "df_grouped = df.groupby(\"Sex\").agg({\n",
    "    \"Age\": \"mean\",\n",
    "    \"Fare\": \"sum\",\n",
    "    \"Survived\": [\"mean\", \"count\"]\n",
    "})\n",
    "display(df_grouped)"
   ]
  },
  {
   "cell_type": "markdown",
   "id": "24be16ed",
   "metadata": {},
   "source": [
    "### Ćwiczenie: \n",
    "1. Oblicz odchylenie standardowe ceny biletu dla każdej klasy\n",
    "2. Policz liczbę pasażerów dla każdej kombinacji \"Pclass\" i \"Sex\""
   ]
  },
  {
   "cell_type": "code",
   "execution_count": null,
   "id": "1bf0f1ad",
   "metadata": {},
   "outputs": [],
   "source": []
  },
  {
   "cell_type": "markdown",
   "id": "1c63f476",
   "metadata": {},
   "source": [
    "## Sortowanie danych"
   ]
  },
  {
   "cell_type": "code",
   "execution_count": null,
   "id": "4aaf7b71",
   "metadata": {},
   "outputs": [],
   "source": [
    "# Sortowanie po wieku i cenie biletu\n",
    "df_sorted = df.sort_values(by=[\"Age\", \"Fare\"], ascending=[True, False])\n",
    "print(df_sorted.head())\n",
    "\n",
    "# Inne sposoby sortowania\n",
    "df_sorted_multi = df.sort_values(by=[\"Pclass\", \"Survived\", \"Age\"], ascending=[True, False, True])\n",
    "print(df_sorted_multi.head())"
   ]
  },
  {
   "cell_type": "markdown",
   "id": "f5e2eedd",
   "metadata": {},
   "source": [
    "### Ćwiczenie: \n",
    "Posortuj dane po płci i wieku rosnąco"
   ]
  },
  {
   "cell_type": "code",
   "execution_count": null,
   "id": "13058948",
   "metadata": {},
   "outputs": [],
   "source": []
  }
 ],
 "metadata": {
  "kernelspec": {
   "display_name": "Python 3 (ipykernel)",
   "language": "python",
   "name": "python3"
  },
  "language_info": {
   "codemirror_mode": {
    "name": "ipython",
    "version": 3
   },
   "file_extension": ".py",
   "mimetype": "text/x-python",
   "name": "python",
   "nbconvert_exporter": "python",
   "pygments_lexer": "ipython3",
   "version": "3.10.9"
  }
 },
 "nbformat": 4,
 "nbformat_minor": 5
}
