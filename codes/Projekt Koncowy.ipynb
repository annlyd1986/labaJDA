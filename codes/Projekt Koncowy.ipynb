{
 "cells": [
  {
   "cell_type": "markdown",
   "id": "09b9eff0-11b1-4496-8e47-e3aa1a9f1ae4",
   "metadata": {},
   "source": [
    "1. Przygotowanie danych\n",
    "● Załaduj dane do środowiska Pythona.\n",
    "● Zapoznaj się z dokumentacją i opisem zbioru danych.\n",
    "● Połącz tabele w celu uzyskania pełnego obrazu klientów i ich pożyczek (np. połącz\n",
    "dane o pożyczkach z transakcjami i rachunkami klientów).\n",
    "● Utwórz zmienną opisywaną: niespłacenie pożyczki (1 = niespłacona, 0 =\n",
    "spłacona).\n",
    "2. Eksploracyjna analiza danych (EDA)\n",
    "● Sprawdź podstawowe statystyki opisowe.\n",
    "● Przeanalizuj rozkład zmiennych (histogramy, wykresy pudełkowe).\n",
    "● Zidentyfikuj i obsłuż brakujące wartości.\n",
    "● Sprawdź korelacje między zmiennymi a niespłaceniem pożyczki.\n",
    "● Zwizualizuj zależności między cechami klientów a niespłaceniem kredytu (np. wpływ\n",
    "dochodów, wieku, liczby transakcji na prawdopodobieństwo niespłaty).\n",
    "3. Budowa modelu predykcyjnego\n",
    "● Przygotuj dane do modelowania:\n",
    "● Zakoduj zmienne kategoryczne.\n",
    "● Znormalizuj lub standaryzuj dane.\n",
    "● Podziel zbiór danych na zestaw treningowy i testowy.\n",
    "● Zbuduj model klasyfikacyjny przewidujący, czy pożyczka nie zostanie spłacona:\n",
    "● Wypróbuj różne algorytmy, np. regresję logistyczną, drzewa decyzyjne, lasy losowe,\n",
    "XGBoost.\n",
    "● Porównaj wyniki modeli na podstawie metryk takich jak dokładność, precyzja, recall,\n",
    "F1-score (szczególnie istotny będzie *recall dla klasy \"niespłacona pożyczka\"*).\n",
    "● Zwizualizuj krzywe ROC i macierz pomyłek.\n",
    "4. Analiza wyników i wnioski\n",
    "● Które cechy są najważniejsze dla przewidywania niespłacenia pożyczki?\n",
    "● Jakie czynniki najczęściej wpływają na to, że klient nie spłaca kredytu?"
   ]
  },
  {
   "cell_type": "code",
   "execution_count": 5,
   "id": "c1f49f12-7aa1-467c-9395-64eaa6360ec9",
   "metadata": {},
   "outputs": [
    {
     "ename": "SyntaxError",
     "evalue": "(unicode error) 'unicodeescape' codec can't decode bytes in position 2-3: truncated \\UXXXXXXXX escape (1584408939.py, line 14)",
     "output_type": "error",
     "traceback": [
      "\u001b[1;36m  Cell \u001b[1;32mIn[5], line 14\u001b[1;36m\u001b[0m\n\u001b[1;33m    df_account = pd.read_csv('C:\\Users\\annal\\Desktop\\Junior Data Analyst\\Projekt końcowy\\account.csv', sep=';', header=0, index_col=0)\u001b[0m\n\u001b[1;37m                             ^\u001b[0m\n\u001b[1;31mSyntaxError\u001b[0m\u001b[1;31m:\u001b[0m (unicode error) 'unicodeescape' codec can't decode bytes in position 2-3: truncated \\UXXXXXXXX escape\n"
     ]
    }
   ],
   "source": [
    "import pandas as pd\n",
    "import numpy as np\n",
    "import matplotlib.pyplot as plt\n",
    "import seaborn as sns\n",
    "from sklearn.model_selection import train_test_split, GridSearchCV\n",
    "from sklearn.preprocessing import StandardScaler\n",
    "from sklearn.impute import SimpleImputer\n",
    "from sklearn.linear_model import LogisticRegression\n",
    "from sklearn.tree import DecisionTreeClassifier, plot_tree\n",
    "from sklearn.ensemble import RandomForestClassifier\n",
    "from sklearn.utils import resample\n",
    "from sklearn.metrics import accuracy_score, precision_score, recall_score, f1_score, roc_auc_score, confusion_matrix, roc_curve\n",
    "\n",
    "df_account = pd.read_csv('C:\\Users\\annal\\Desktop\\Junior Data Analyst\\Projekt końcowy\\account.csv', sep=';', header=0, index_col=0)\n",
    "\n"
   ]
  },
  {
   "cell_type": "code",
   "execution_count": null,
   "id": "c474b309-4ca6-47d4-b906-71ef62f0a2ca",
   "metadata": {},
   "outputs": [],
   "source": []
  },
  {
   "cell_type": "code",
   "execution_count": null,
   "id": "d3c46ad8-c768-44f6-9c4e-f8413164392f",
   "metadata": {},
   "outputs": [],
   "source": []
  },
  {
   "cell_type": "code",
   "execution_count": null,
   "id": "4aeb645d-865f-4833-9f37-22e133d99d2b",
   "metadata": {},
   "outputs": [],
   "source": []
  },
  {
   "cell_type": "code",
   "execution_count": null,
   "id": "decf5a1a-64a3-4449-b0de-7d4dfb80d51d",
   "metadata": {},
   "outputs": [],
   "source": []
  }
 ],
 "metadata": {
  "kernelspec": {
   "display_name": "Python 3 (ipykernel)",
   "language": "python",
   "name": "python3"
  },
  "language_info": {
   "codemirror_mode": {
    "name": "ipython",
    "version": 3
   },
   "file_extension": ".py",
   "mimetype": "text/x-python",
   "name": "python",
   "nbconvert_exporter": "python",
   "pygments_lexer": "ipython3",
   "version": "3.12.7"
  }
 },
 "nbformat": 4,
 "nbformat_minor": 5
}
